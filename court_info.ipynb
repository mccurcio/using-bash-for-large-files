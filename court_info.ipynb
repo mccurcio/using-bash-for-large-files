{
 "cells": [
  {
   "attachments": {},
   "cell_type": "markdown",
   "id": "2971f0a5",
   "metadata": {},
   "source": [
    "### Hi,\n",
    "\n",
    "IMHO, the best tool to start this job is the command line interface.  \n",
    "\n",
    "- Here is a demo/example of what I might do with the large file (oca_index.csv) but **\"your milage will vary.\"** \n",
    "\n",
    "- Bash commands are ususally written in C AND memory efficient AND can work with 330 Meg files with no lag.\n",
    "\n",
    "- I used the ubiquitous Jupyter notebook only because it was the most aesthetically pleasing. As you may know, I would have written a bash shell script, IRL.\n"
   ]
  },
  {
   "cell_type": "code",
   "execution_count": 23,
   "id": "32c264dc",
   "metadata": {},
   "outputs": [
    {
     "name": "stdout",
     "output_type": "stream",
     "text": [
      "/home/mcc/Desktop/court_info\r\n"
     ]
    }
   ],
   "source": [
    "# A primer on the Linux or MacOS command line\n",
    "\n",
    "# Since I am using a Jupyter notebook and Bash CLI I NEED '!' before most Bash commands.\n",
    "\n",
    "!pwd"
   ]
  },
  {
   "cell_type": "code",
   "execution_count": 24,
   "id": "d47c7a4c",
   "metadata": {},
   "outputs": [
    {
     "name": "stdout",
     "output_type": "stream",
     "text": [
      "court_info.ipynb  oca_index.csv  sorted.2.3.txt\r\n"
     ]
    }
   ],
   "source": [
    "!ls"
   ]
  },
  {
   "cell_type": "code",
   "execution_count": 25,
   "id": "e6a9d1c0",
   "metadata": {},
   "outputs": [
    {
     "name": "stdout",
     "output_type": "stream",
     "text": [
      "indexnumberid\r\n",
      "court\r\n",
      "fileddate\r\n",
      "propertytype\r\n",
      "classification\r\n",
      "specialtydesignationtypes\r\n",
      "status\r\n",
      "disposeddate\r\n",
      "disposedreason\r\n",
      "firstpaper\r\n",
      "primaryclaimtotal\r\n",
      "dateofjurydemand\r\n"
     ]
    }
   ],
   "source": [
    "# This provides the header of your file\n",
    "#head -n 1 | tr , '\\n'\n",
    "!head -1 \"oca_index.csv\" | tr , '\\n'"
   ]
  },
  {
   "cell_type": "code",
   "execution_count": 26,
   "id": "e52ab444",
   "metadata": {},
   "outputs": [
    {
     "name": "stdout",
     "output_type": "stream",
     "text": [
      "FFFBABEE56AE8CB30BABD1870CB3C7BA0CF6365C385FE009E8289232F95A024A,Kings County Civil Court,2021-12-10,Residential,Non-Payment,{E-Filed},Active,,,Petition by Attorney,1416.19,\r\n",
      "FFFE53E490BE58FB7AA10A9F16FFF419F1C652448FEBFB42B72FCE02166E4E0C,Binghamton City Court,2022-03-21,Residential,Non-Payment,,Active,,,Petition by Attorney,4257.03,\r\n",
      "FFFF4BE939ABF26BEB2B25EF20CDDCDFE844CFA486F9105EB96370618F11AB5E,Queens County Civil Court,2022-11-16,Commercial,Non-Payment,{E-Filed},Active,,,Petition by Attorney,39078.74,\r\n"
     ]
    }
   ],
   "source": [
    "!tail -3 \"oca_index.csv\""
   ]
  },
  {
   "cell_type": "code",
   "execution_count": 27,
   "id": "13d253ed",
   "metadata": {},
   "outputs": [
    {
     "name": "stdout",
     "output_type": "stream",
     "text": [
      "  1689846  15760540 354920340 oca_index.csv\r\n"
     ]
    }
   ],
   "source": [
    "# wc - print Number lines, words, and bytes for each file\n",
    "\n",
    "!wc oca_index.csv"
   ]
  },
  {
   "cell_type": "code",
   "execution_count": 28,
   "id": "ebd4873c",
   "metadata": {},
   "outputs": [
    {
     "name": "stdout",
     "output_type": "stream",
     "text": [
      "1689846 oca_index.csv\r\n"
     ]
    }
   ],
   "source": [
    "!wc -l oca_index.csv # prints only nums of lines\n",
    "\n",
    "# Therefore you have 1,689,846 lines of text"
   ]
  },
  {
   "cell_type": "code",
   "execution_count": 29,
   "id": "f22b3ff5",
   "metadata": {},
   "outputs": [],
   "source": [
    "# Because I see upper and lower case letters (in the tail info above) \n",
    "# it is common (for me) to 'tr'anslate to lower case.\n",
    "\n",
    "!cat oca_index.csv | tr [:upper:] [:lower:] > lower.txt"
   ]
  },
  {
   "cell_type": "code",
   "execution_count": 30,
   "id": "5950d714",
   "metadata": {},
   "outputs": [],
   "source": [
    "# As you probably saw opening a 330 Meg text file can crash your system\n",
    "# the 'less' command (in linux) is used to 'stream' data and not open the entire file.\n",
    "\n",
    "####\n",
    "# 'less' WORKS BETTER on the command line than the jupyter interface.\n",
    "####\n",
    "# So if you want open up linux or MacOS command line to run 'less' you can view *all* lines there.\n",
    "\n",
    "# 'less' can page up or down or line up or down. Allowing you to inpsect the entire if you choose. \n",
    "\n",
    "#less lower.txt # Uncomment to run"
   ]
  },
  {
   "cell_type": "code",
   "execution_count": 31,
   "id": "262841fd",
   "metadata": {},
   "outputs": [],
   "source": [
    "# The command 'cut' allows you to cut 'fields', bytes, characters...\n",
    "# Field = column\n",
    "\n",
    "# If you want to see the 'man' page (manual) for cut it gives an overview\n",
    "#man cut # Uncomment to run"
   ]
  },
  {
   "cell_type": "code",
   "execution_count": 32,
   "id": "ffcc36a5",
   "metadata": {},
   "outputs": [
    {
     "name": "stdout",
     "output_type": "stream",
     "text": [
      "c24511.lower.csv  court_info.ipynb  lower.txt  oca_index.csv  sorted.2.3.txt\r\n"
     ]
    }
   ],
   "source": [
    "!cut -d \",\" -f 2,4,5,11 lower.txt >> c24511.lower.csv\n",
    "\n",
    "# above I took the 2nd, 4th, 5th, and 11th columns and \n",
    "# disregadrded the rest and output them to cut.ok.csv\n",
    "\n",
    "!ls # print out the list of files, Yea it worked!"
   ]
  },
  {
   "cell_type": "code",
   "execution_count": 33,
   "id": "395d1770",
   "metadata": {},
   "outputs": [
    {
     "name": "stdout",
     "output_type": "stream",
     "text": [
      "court,propertytype,classification,primaryclaimtotal\r\n",
      "kings county civil court,residential,hp,0\r\n",
      "bronx county civil court,residential,hp,0\r\n",
      "bronx county civil court,residential,non-payment,3886.36\r\n",
      "new york county civil court,residential,non-payment,5138.02\r\n",
      "bronx county civil court,residential,non-payment,7211.74\r\n",
      "kings county civil court,residential,non-payment,2740.46\r\n",
      "bronx county civil court,residential,holdover,0\r\n",
      "bronx county civil court,residential,hp,0\r\n",
      "bronx county civil court,residential,non-payment,2901.33\r\n"
     ]
    }
   ],
   "source": [
    "!head -10 c24511.lower.csv # The file 'cut.lower.csv' is ready for python, R or Excel, if needed"
   ]
  },
  {
   "cell_type": "code",
   "execution_count": 34,
   "id": "ce499eae",
   "metadata": {},
   "outputs": [
    {
     "name": "stdout",
     "output_type": "stream",
     "text": [
      " 1689846  8196867 97003736 c24511.lower.csv\r\n"
     ]
    }
   ],
   "source": [
    "!wc c24511.lower.csv\n",
    "# Your file is now cut down to 97,003,736 Meg. Much better."
   ]
  },
  {
   "cell_type": "code",
   "execution_count": 35,
   "id": "27c0c5db",
   "metadata": {},
   "outputs": [
    {
     "name": "stdout",
     "output_type": "stream",
     "text": [
      "77 courts.txt\r\n"
     ]
    }
   ],
   "source": [
    "## Question1: How many courts are there in this file?\n",
    "\n",
    "!cut -d ',' -f 2 lower.txt | sort | uniq >> courts.txt\n",
    "\n",
    "!wc -l courts.txt"
   ]
  },
  {
   "cell_type": "code",
   "execution_count": 36,
   "id": "607674dd",
   "metadata": {},
   "outputs": [
    {
     "name": "stdout",
     "output_type": "stream",
     "text": [
      "albany city court\r\n",
      "amsterdam city court\r\n",
      "auburn city court\r\n",
      "batavia city court\r\n",
      "beacon city court\r\n",
      "binghamton city court\r\n",
      "bronx county civil court\r\n",
      "buffalo city court\r\n",
      "canandaigua city court\r\n",
      "cohoes city court\r\n",
      "corning city court\r\n",
      "cortland city court\r\n",
      "court\r\n",
      "dunkirk city court\r\n",
      "elmira city court\r\n",
      "fulton city court\r\n",
      "geneva city court\r\n",
      "glen cove city court\r\n",
      "glens falls city court\r\n",
      "gloversville city court\r\n",
      "harlem community justice center\r\n",
      "hornell city court\r\n",
      "hudson city court\r\n",
      "ithaca city court\r\n",
      "jamestown city court\r\n",
      "johnstown city court\r\n",
      "kings county civil court\r\n",
      "kingston city court\r\n",
      "lackawanna city court\r\n",
      "little falls city court\r\n",
      "lockport city court\r\n",
      "long beach city court\r\n",
      "mechanicville city court\r\n",
      "middletown city court\r\n",
      "mt. vernon city court\r\n",
      "nassau county district court - 1st district\r\n",
      "nassau county district court - 2nd district\r\n",
      "nassau county district court - 4th district\r\n",
      "newburgh city court\r\n",
      "new rochelle city court\r\n",
      "new york county civil court\r\n",
      "niagara falls city court\r\n",
      "north tonawanda city court\r\n",
      "norwich city court\r\n",
      "ogdensburg city court\r\n",
      "olean city court\r\n",
      "oneida city court\r\n",
      "oneonta city court\r\n",
      "oswego city court\r\n",
      "peekskill city court\r\n",
      "plattsburgh city court\r\n",
      "port jervis city court\r\n",
      "poughkeepsie city court\r\n",
      "queens county civil court\r\n",
      "redhook community justice center\r\n",
      "rensselaer city court\r\n",
      "richmond county civil court\r\n",
      "rochester city court\r\n",
      "rome city court\r\n",
      "rye city court\r\n",
      "salamanca city court\r\n",
      "saratoga springs city court\r\n",
      "schenectady city court\r\n",
      "sherrill city court\r\n",
      "suffolk county district court - 2nd district\r\n",
      "suffolk county district court - 3rd district\r\n",
      "suffolk county district court - 4th district\r\n",
      "suffolk county district court - 5th district\r\n",
      "suffolk county district court - 6th district\r\n",
      "syracuse city court\r\n",
      "tonawanda city court\r\n",
      "troy city court\r\n",
      "utica city court\r\n",
      "watertown city court\r\n",
      "watervliet city court\r\n",
      "white plains city court\r\n",
      "yonkers city court\r\n"
     ]
    }
   ],
   "source": [
    "cat courts.txt"
   ]
  },
  {
   "cell_type": "code",
   "execution_count": 37,
   "id": "665fd12b",
   "metadata": {},
   "outputs": [
    {
     "name": "stdout",
     "output_type": "stream",
     "text": [
      "1689846 all_courts.txt\r\n"
     ]
    }
   ],
   "source": [
    "## Hmm, 77 courts but ONE court is 'court'?  sounds like a problem.\n",
    "\n",
    "## Q2: How many times does 'court' occur alone?\n",
    "!cut -d ',' -f 2 lower.txt | sort > all_courts.txt\n",
    "!wc -l all_courts.txt"
   ]
  },
  {
   "cell_type": "code",
   "execution_count": 38,
   "id": "9df07800",
   "metadata": {},
   "outputs": [
    {
     "name": "stdout",
     "output_type": "stream",
     "text": [
      "1\r\n"
     ]
    }
   ],
   "source": [
    "# Cont. Q2\n",
    "!grep -o '^court$' all_courts.txt | wc -l \n",
    "# So supposably there is ONLY one instance of a line that starts with (^) \"court\" and ends with ($) \"court\"\n",
    "# So I gues this is a one off."
   ]
  },
  {
   "cell_type": "code",
   "execution_count": 39,
   "id": "216596de",
   "metadata": {},
   "outputs": [
    {
     "name": "stdout",
     "output_type": "stream",
     "text": [
      "1\r\n"
     ]
    }
   ],
   "source": [
    "# this method also shows that there is only one 'court' in the list.\n",
    "# It is a one off!\n",
    "\n",
    "!grep -v 'city court' all_courts.txt | grep -v ' district court - ' | \\\n",
    "grep -v 'civil court' | grep -v ' justice center' | wc -l"
   ]
  },
  {
   "cell_type": "code",
   "execution_count": 40,
   "id": "cbaaeca5",
   "metadata": {},
   "outputs": [
    {
     "name": "stdout",
     "output_type": "stream",
     "text": [
      "1689846 cols.2.3.txt\r\n"
     ]
    }
   ],
   "source": [
    "# The next step (for me) would be to look at 2 columns at a time.\n",
    "\n",
    "# eg. compare the courts and the fileddate, \n",
    "# I would cut out the 2nd and 3rd columns from the 'lower.txt' file.\n",
    "\n",
    "!cut -d ',' -f 2,3 lower.txt > cols.2.3.txt\n",
    "\n",
    "!wc -l cols.2.3.txt # This is good, bc we got all rows."
   ]
  },
  {
   "cell_type": "code",
   "execution_count": 41,
   "id": "1ad5a51b",
   "metadata": {},
   "outputs": [
    {
     "name": "stdout",
     "output_type": "stream",
     "text": [
      "court,fileddate\r\n",
      "kings county civil court,2016-04-18\r\n",
      "bronx county civil court,2016-04-15\r\n",
      "bronx county civil court,2016-12-29\r\n",
      "new york county civil court,2016-03-31\r\n",
      "bronx county civil court,2016-05-31\r\n",
      "kings county civil court,2016-02-04\r\n",
      "bronx county civil court,2016-09-07\r\n",
      "bronx county civil court,2016-01-06\r\n",
      "bronx county civil court,2016-08-08\r\n"
     ]
    }
   ],
   "source": [
    "!head -10 cols.2.3.txt"
   ]
  },
  {
   "cell_type": "code",
   "execution_count": 42,
   "id": "fba68e16",
   "metadata": {},
   "outputs": [
    {
     "name": "stdout",
     "output_type": "stream",
     "text": [
      " 1689846  6950672 62030036 cols.2.3.txt\r\n"
     ]
    }
   ],
   "source": [
    "!wc cols.2.3.txt # This file is now 62,030,036 bytes. \n",
    "# Manageable for R, Python or ..."
   ]
  },
  {
   "cell_type": "code",
   "execution_count": 43,
   "id": "f5b30e13",
   "metadata": {},
   "outputs": [
    {
     "name": "stdout",
     "output_type": "stream",
     "text": [
      "1689846 sorted.2.3.txt\r\n"
     ]
    }
   ],
   "source": [
    "# Or you can sort them by court location AND date.\n",
    "\n",
    "!sort -t ',' -k1,1 -k2r,2 cols.2.3.txt > sorted.2.3.txt\n",
    "\n",
    "!wc -l sorted.2.3.txt"
   ]
  },
  {
   "cell_type": "code",
   "execution_count": 45,
   "id": "e5807a4a",
   "metadata": {},
   "outputs": [
    {
     "name": "stdout",
     "output_type": "stream",
     "text": [
      "albany city court,2023-04-17\r\n",
      "albany city court,2023-04-14\r\n",
      "albany city court,2023-04-14\r\n",
      "albany city court,2023-04-14\r\n",
      "albany city court,2023-04-14\r\n",
      "albany city court,2023-04-12\r\n",
      "albany city court,2023-04-12\r\n",
      "albany city court,2023-04-12\r\n",
      "albany city court,2023-04-12\r\n",
      "albany city court,2023-04-12\r\n"
     ]
    }
   ],
   "source": [
    "!head -10 sorted.2.3.txt"
   ]
  },
  {
   "cell_type": "markdown",
   "id": "2066f029",
   "metadata": {},
   "source": [
    "## FYI\n",
    "\n",
    "I like the online book:\n",
    "\n",
    "https://jeroenjanssens.com/dsatcl/index.html\n",
    "\n",
    "HTH\n",
    "\n",
    "matt.curcio.us@gmail.com"
   ]
  },
  {
   "cell_type": "code",
   "execution_count": null,
   "id": "c772cac2",
   "metadata": {},
   "outputs": [],
   "source": []
  }
 ],
 "metadata": {
  "kernelspec": {
   "display_name": "Python 3 (ipykernel)",
   "language": "python",
   "name": "python3"
  },
  "language_info": {
   "codemirror_mode": {
    "name": "ipython",
    "version": 3
   },
   "file_extension": ".py",
   "mimetype": "text/x-python",
   "name": "python",
   "nbconvert_exporter": "python",
   "pygments_lexer": "ipython3",
   "version": "3.10.6"
  }
 },
 "nbformat": 4,
 "nbformat_minor": 5
}
